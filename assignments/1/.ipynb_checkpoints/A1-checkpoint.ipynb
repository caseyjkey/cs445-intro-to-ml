{
 "cells": [
  {
   "cell_type": "markdown",
   "metadata": {},
   "source": [
    "# A1.1 Linear Regression with SGD"
   ]
  },
  {
   "cell_type": "markdown",
   "metadata": {},
   "source": [
    "* A1.1: *Added preliminary grading script in last cells of notebook.*"
   ]
  },
  {
   "cell_type": "markdown",
   "metadata": {},
   "source": [
    "In this assignment, you will implement three functions `train`, `use`, and `rmse` and apply them to some weather data.\n",
    "Here are the specifications for these functions, which you must satisfy."
   ]
  },
  {
   "cell_type": "markdown",
   "metadata": {},
   "source": [
    "`model = train(X, T, learning_rate, n_epochs, verbose)`\n",
    "* `X`: is an $N$ x $D$ matrix of input data samples, one per row. $N$ is the number of samples and $D$ is the number of variable values in\n",
    "each sample.\n",
    "* `T`: is an $N$ x $K$ matrix of desired target values for each sample.  $K$ is the number of output values you want to predict for each sample.\n",
    "* `learning_rate`: is a scalar that controls the step size of each update to the weight values.\n",
    "* `n_epochs`: is the number of epochs, or passes, through all $N$ samples, to take while updating the weight values.\n",
    "* `verbose`: is True or False (default value) to control whether or not occasional text is printed to show the training progress.\n",
    "* `model`: is the returned value, which must be a dictionary with the keys `'w'`, `'Xmeans'`, `'Xstds'`, `'Tmeans'` and `'Tstds'`.\n",
    "\n",
    "`Y = use(X, model)`\n",
    "* `X`: is an $N$ x $D$ matrix of input data samples, one per row, for which you want to predict the target values.\n",
    "* `model`: is the dictionary returned by `train`.\n",
    "* `Y`: is the returned $N$ x $K$ matrix of predicted values, one for each sample in `X`.\n",
    "\n",
    "`result = rmse(Y, T)`\n",
    "* `Y`: is an $N$ x $K$ matrix of predictions produced by `use`.\n",
    "* `T`: is the $N$ x $K$ matrix of target values.\n",
    "* `result`: is a scalar calculated as the square root of the mean of the squared differences between each sample (row) in `Y` and `T`."
   ]
  },
  {
   "cell_type": "markdown",
   "metadata": {},
   "source": [
    "To get you started, here are the standard imports we need."
   ]
  },
  {
   "cell_type": "code",
   "execution_count": 77,
   "metadata": {
    "lines_to_next_cell": 1
   },
   "outputs": [],
   "source": [
    "import numpy as np\n",
    "import matplotlib.pyplot as plt\n",
    "import pandas"
   ]
  },
  {
   "cell_type": "markdown",
   "metadata": {},
   "source": [
    "## 60 points: 40 for train, 10 for use, 10 for rmse"
   ]
  },
  {
   "cell_type": "markdown",
   "metadata": {},
   "source": [
    "Now here is a start at defining the `train`, `use`, and `rmse`\n",
    "functions.  Fill in the correct code wherever you see `. . .` with\n",
    "one or more lines of code."
   ]
  },
  {
   "cell_type": "code",
   "execution_count": 78,
   "metadata": {
    "lines_to_next_cell": 1
   },
   "outputs": [],
   "source": [
    "def train(X, T, learning_rate, n_epochs, verbose=False):\n",
    "    \n",
    "    X1 = np.insert(X, 0, 1, axis=1)\n",
    "    \n",
    "    Xstds = np.std(X1[:, 1:], axis=0)\n",
    "    Tstds = np.std(T[:], axis=0)\n",
    "\n",
    "    Xmeans = np.mean(X1[:, 1:], axis=0)\n",
    "    Tmeans = np.mean(T[:], axis=0)\n",
    "    \n",
    "    X1 = X1.astype(float)\n",
    "    T = T.astype(float)\n",
    "\n",
    "    X1[:, 1:] = (X1[:, 1:] - Xmeans) / Xstds\n",
    "    T[:] = (T[:] - Tmeans) / Tstds\n",
    "        \n",
    "    n_samples, n_inputs = X1.shape  # number of rows in data equals the number of samples\n",
    "    w = np.zeros((n_inputs, 1)) \n",
    "\n",
    "    for epoch in range(n_epochs):\n",
    "        sqerror_sum = 0\n",
    "\n",
    "        for n in range(n_samples):\n",
    "\n",
    "            # Use current weight values to predict output for sample n, then\n",
    "            # calculate the error, and\n",
    "            # update the weight values.\n",
    "            #. . .\n",
    "            y = X1[n:n + 1, :] @ w      # predicted value, y, for sample n\n",
    "            error = T[n:n + 1, :] - y  \n",
    "            # update weights by fraction of negative derivative of square error with respect to weights\n",
    "            # print(y.shape, error.shape, (X1[n:n+1,:].T * error).shape)\n",
    "            w += learning_rate * X1[n:n + 1, :].T * error\n",
    "            \n",
    "            # Add the squared error to sqerror_sum\n",
    "            sqerror_sum += error ** 2\n",
    "        \n",
    "        if verbose and (n_epochs < 11 or (epoch + 1) % (n_epochs // 10) == 0):\n",
    "            rmse = np.sqrt(sqerror_sum / n_samples)\n",
    "            rmse = rmse[0, 0]  # because rmse is 1x1 matrix\n",
    "            print(f'Epoch {epoch + 1} RMSE {rmse:.2f}')\n",
    "                \n",
    "\n",
    "    return {'w': w, 'Xmeans': Xmeans, 'Xstds': Xstds,\n",
    "            'Tmeans': Tmeans, 'Tstds': Tstds}"
   ]
  },
  {
   "cell_type": "code",
   "execution_count": 79,
   "metadata": {
    "lines_to_next_cell": 1
   },
   "outputs": [],
   "source": [
    "def use(X, model):\n",
    "    # Inserting a column of ones to serve as a constant variable\n",
    "    X1 = np.insert(X, 0, 1, axis=1)\n",
    "    # Standardize X using Xmeans and Xstds in model\n",
    "    Xstds = np.std(X1[:, 1:], axis=0)\n",
    "    Xmeans = np.mean(X1[:, 1:], axis=0)\n",
    "    \n",
    "    Xtds = Xstds.astype(float)\n",
    "    Xmeans = Xmeans.astype(float)\n",
    "    X1 = X1.astype(float)\n",
    "    # Predict output values using weights in model\n",
    "    X1[:, 1:] = (X1[:, 1:] - Xmeans) / Xstds\n",
    "    Y = X1 @ model['w']\n",
    "    \n",
    "    # Unstandardize the predicted output values using Tmeans and Tstds in model\n",
    "    Y = (Y[:]* model['Tstds']) + model['Tmeans'] \n",
    "    # Return the unstandardized output values\n",
    "    return Y\n"
   ]
  },
  {
   "cell_type": "code",
   "execution_count": 80,
   "metadata": {
    "lines_to_next_cell": 1
   },
   "outputs": [],
   "source": [
    "def rmse(A, B):\n",
    "    rmseTrain = np.sqrt(np.mean((A @ w - B)**2, axis=0))\n",
    "    print(rmseTrain)\n",
    "    return rmseTrain"
   ]
  },
  {
   "cell_type": "markdown",
   "metadata": {},
   "source": [
    "Here is a simple example use of your functions to help you debug them.  Your functions must produce the same results."
   ]
  },
  {
   "cell_type": "code",
   "execution_count": 81,
   "metadata": {},
   "outputs": [
    {
     "data": {
      "image/png": "[encoded data removed]",
      "text/plain": [
       "<Figure size 432x288 with 1 Axes>"
      ]
     },
     "metadata": {
      "needs_background": "light"
     },
     "output_type": "display_data"
    }
   ],
   "source": [
    "X = np.arange(0, 100).reshape(-1, 1)  # make X a 100 x 1 matrix\n",
    "T = 0.5 + 0.3 * X + 0.005 * (X - 50) ** 2\n",
    "plt.plot(X, T, '.')\n",
    "plt.xlabel('X')\n",
    "plt.ylabel('T');"
   ]
  },
  {
   "cell_type": "code",
   "execution_count": 82,
   "metadata": {},
   "outputs": [
    {
     "name": "stdout",
     "output_type": "stream",
     "text": [
      "Epoch 50 RMSE 0.40\n",
      "Epoch 100 RMSE 0.40\n",
      "Epoch 150 RMSE 0.40\n",
      "Epoch 200 RMSE 0.40\n",
      "Epoch 250 RMSE 0.40\n",
      "Epoch 300 RMSE 0.40\n",
      "Epoch 350 RMSE 0.40\n",
      "Epoch 400 RMSE 0.40\n",
      "Epoch 450 RMSE 0.40\n",
      "Epoch 500 RMSE 0.40\n"
     ]
    },
    {
     "data": {
      "text/plain": [
       "{'w': array([[-0.00576098],\n",
       "        [ 1.05433338]]),\n",
       " 'Xmeans': array([49.5]),\n",
       " 'Xstds': array([28.86607005]),\n",
       " 'Tmeans': array([19.5175]),\n",
       " 'Tstds': array([9.29491938])}"
      ]
     },
     "execution_count": 82,
     "metadata": {},
     "output_type": "execute_result"
    }
   ],
   "source": [
    "model = train(X, T, 0.01, 500, verbose=True)\n",
    "model"
   ]
  },
  {
   "cell_type": "code",
   "execution_count": 83,
   "metadata": {},
   "outputs": [
    {
     "name": "stdout",
     "output_type": "stream",
     "text": [
      "[[-0.00576098]\n",
      " [ 1.05433338]]\n"
     ]
    }
   ],
   "source": [
    "print(model['w'])"
   ]
  },
  {
   "cell_type": "code",
   "execution_count": 84,
   "metadata": {},
   "outputs": [
    {
     "data": {
      "text/plain": [
       "<matplotlib.legend.Legend at 0x7f921dcda9a0>"
      ]
     },
     "execution_count": 84,
     "metadata": {},
     "output_type": "execute_result"
    },
    {
     "data": {
      "image/png": "[encoded data removed]",
      "text/plain": [
       "<Figure size 432x288 with 1 Axes>"
      ]
     },
     "metadata": {
      "needs_background": "light"
     },
     "output_type": "display_data"
    }
   ],
   "source": [
    "Y = use(X, model)\n",
    "plt.plot(T, '.', label='T')\n",
    "plt.plot(Y, '.', label='Y')\n",
    "plt.legend()"
   ]
  },
  {
   "cell_type": "code",
   "execution_count": 85,
   "metadata": {},
   "outputs": [
    {
     "name": "stdout",
     "output_type": "stream",
     "text": [
      "[[-0.00576098]\n",
      " [ 1.05433338]]\n"
     ]
    }
   ],
   "source": [
    "print(model['w'])"
   ]
  },
  {
   "cell_type": "code",
   "execution_count": 86,
   "metadata": {},
   "outputs": [
    {
     "data": {
      "text/plain": [
       "[<matplotlib.lines.Line2D at 0x7f921dc48220>]"
      ]
     },
     "execution_count": 86,
     "metadata": {},
     "output_type": "execute_result"
    },
    {
     "data": {
      "image/png": "[encoded data removed]",
      "text/plain": [
       "<Figure size 432x288 with 1 Axes>"
      ]
     },
     "metadata": {
      "needs_background": "light"
     },
     "output_type": "display_data"
    }
   ],
   "source": [
    "plt.plot(Y[:, 0], T[:, 0], 'o')\n",
    "plt.xlabel('Predicted')\n",
    "plt.ylabel('Actual')\n",
    "a = max(min(Y[:, 0]), min(T[:, 0]))\n",
    "b = min(max(Y[:, 0]), max(T[:, 0]))\n",
    "plt.plot([a, b], [a, b], 'r', linewidth=3)"
   ]
  },
  {
   "cell_type": "markdown",
   "metadata": {},
   "source": [
    "## Weather Data"
   ]
  },
  {
   "cell_type": "markdown",
   "metadata": {},
   "source": [
    "Now that your functions are working, we can apply them to some real data. We will use data\n",
    "from  [CSU's CoAgMet Station Daily Data Access](http://coagmet.colostate.edu/cgi-bin/dailydata_form.pl).\n",
    "\n",
    "You can get the data file [here](http://www.cs.colostate.edu/~cs445/notebooks/A1_data.txt)"
   ]
  },
  {
   "cell_type": "markdown",
   "metadata": {},
   "source": [
    "## 5 points:\n",
    "\n",
    "Read in the data into variable `df` using `pandas.read_csv` like we did in lecture notes.\n",
    "Missing values in this dataset are indicated by the string `'***'`."
   ]
  },
  {
   "cell_type": "code",
   "execution_count": 87,
   "metadata": {},
   "outputs": [
    {
     "data": {
      "text/html": [
       "<div>\n",
       "<style scoped>\n",
       "    .dataframe tbody tr th:only-of-type {\n",
       "        vertical-align: middle;\n",
       "    }\n",
       "\n",
       "    .dataframe tbody tr th {\n",
       "        vertical-align: top;\n",
       "    }\n",
       "\n",
       "    .dataframe thead th {\n",
       "        text-align: right;\n",
       "    }\n",
       "</style>\n",
       "<table border=\"1\" class=\"dataframe\">\n",
       "  <thead>\n",
       "    <tr style=\"text-align: right;\">\n",
       "      <th></th>\n",
       "      <th>0</th>\n",
       "      <th>1</th>\n",
       "      <th>2</th>\n",
       "      <th>3</th>\n",
       "      <th>4</th>\n",
       "      <th>5</th>\n",
       "      <th>6</th>\n",
       "      <th>7</th>\n",
       "      <th>8</th>\n",
       "      <th>9</th>\n",
       "      <th>...</th>\n",
       "      <th>20</th>\n",
       "      <th>21</th>\n",
       "      <th>22</th>\n",
       "      <th>23</th>\n",
       "      <th>24</th>\n",
       "      <th>25</th>\n",
       "      <th>26</th>\n",
       "      <th>27</th>\n",
       "      <th>28</th>\n",
       "      <th>29</th>\n",
       "    </tr>\n",
       "  </thead>\n",
       "  <tbody>\n",
       "    <tr>\n",
       "      <th>0</th>\n",
       "      <td>Year</td>\n",
       "      <td>Mo</td>\n",
       "      <td>Dy</td>\n",
       "      <td>tave</td>\n",
       "      <td>tmax</td>\n",
       "      <td>mxtm</td>\n",
       "      <td>tmin</td>\n",
       "      <td>mntm</td>\n",
       "      <td>vp</td>\n",
       "      <td>rhmax</td>\n",
       "      <td>...</td>\n",
       "      <td>st15mx</td>\n",
       "      <td>st15mxtm</td>\n",
       "      <td>st15mn</td>\n",
       "      <td>st15mntm</td>\n",
       "      <td>volts</td>\n",
       "      <td>year</td>\n",
       "      <td>gust</td>\n",
       "      <td>gusttm</td>\n",
       "      <td>gusdir</td>\n",
       "      <td>etr_asce</td>\n",
       "    </tr>\n",
       "    <tr>\n",
       "      <th>1</th>\n",
       "      <td>2019</td>\n",
       "      <td>1</td>\n",
       "      <td>1</td>\n",
       "      <td>-13.535</td>\n",
       "      <td>-10.073</td>\n",
       "      <td>14:10</td>\n",
       "      <td>-16.997</td>\n",
       "      <td>23:50</td>\n",
       "      <td>0.153</td>\n",
       "      <td>0.830</td>\n",
       "      <td>...</td>\n",
       "      <td>-1.803</td>\n",
       "      <td>00:00</td>\n",
       "      <td>-3.195</td>\n",
       "      <td>23:00</td>\n",
       "      <td>***</td>\n",
       "      <td>2019.000</td>\n",
       "      <td>5.155</td>\n",
       "      <td>08:10</td>\n",
       "      <td>***</td>\n",
       "      <td>0.324</td>\n",
       "    </tr>\n",
       "    <tr>\n",
       "      <th>2</th>\n",
       "      <td>2019</td>\n",
       "      <td>1</td>\n",
       "      <td>2</td>\n",
       "      <td>-5.791</td>\n",
       "      <td>6.010</td>\n",
       "      <td>14:50</td>\n",
       "      <td>-17.591</td>\n",
       "      <td>04:00</td>\n",
       "      <td>0.209</td>\n",
       "      <td>0.839</td>\n",
       "      <td>...</td>\n",
       "      <td>-2.941</td>\n",
       "      <td>19:00</td>\n",
       "      <td>-4.802</td>\n",
       "      <td>11:00</td>\n",
       "      <td>***</td>\n",
       "      <td>2019.000</td>\n",
       "      <td>4.332</td>\n",
       "      <td>11:50</td>\n",
       "      <td>***</td>\n",
       "      <td>0.521</td>\n",
       "    </tr>\n",
       "    <tr>\n",
       "      <th>3</th>\n",
       "      <td>2019</td>\n",
       "      <td>1</td>\n",
       "      <td>3</td>\n",
       "      <td>1.374</td>\n",
       "      <td>13.444</td>\n",
       "      <td>13:50</td>\n",
       "      <td>-10.696</td>\n",
       "      <td>05:00</td>\n",
       "      <td>0.340</td>\n",
       "      <td>0.836</td>\n",
       "      <td>...</td>\n",
       "      <td>-1.979</td>\n",
       "      <td>22:00</td>\n",
       "      <td>-4.639</td>\n",
       "      <td>10:00</td>\n",
       "      <td>***</td>\n",
       "      <td>2019.000</td>\n",
       "      <td>4.096</td>\n",
       "      <td>15:40</td>\n",
       "      <td>***</td>\n",
       "      <td>0.729</td>\n",
       "    </tr>\n",
       "    <tr>\n",
       "      <th>4</th>\n",
       "      <td>2019</td>\n",
       "      <td>1</td>\n",
       "      <td>4</td>\n",
       "      <td>4.544</td>\n",
       "      <td>15.089</td>\n",
       "      <td>14:40</td>\n",
       "      <td>-6.000</td>\n",
       "      <td>06:00</td>\n",
       "      <td>0.429</td>\n",
       "      <td>0.815</td>\n",
       "      <td>...</td>\n",
       "      <td>-0.963</td>\n",
       "      <td>23:00</td>\n",
       "      <td>-2.768</td>\n",
       "      <td>10:00</td>\n",
       "      <td>***</td>\n",
       "      <td>2019.000</td>\n",
       "      <td>4.096</td>\n",
       "      <td>12:30</td>\n",
       "      <td>***</td>\n",
       "      <td>0.893</td>\n",
       "    </tr>\n",
       "    <tr>\n",
       "      <th>...</th>\n",
       "      <td>...</td>\n",
       "      <td>...</td>\n",
       "      <td>...</td>\n",
       "      <td>...</td>\n",
       "      <td>...</td>\n",
       "      <td>...</td>\n",
       "      <td>...</td>\n",
       "      <td>...</td>\n",
       "      <td>...</td>\n",
       "      <td>...</td>\n",
       "      <td>...</td>\n",
       "      <td>...</td>\n",
       "      <td>...</td>\n",
       "      <td>...</td>\n",
       "      <td>...</td>\n",
       "      <td>...</td>\n",
       "      <td>...</td>\n",
       "      <td>...</td>\n",
       "      <td>...</td>\n",
       "      <td>...</td>\n",
       "      <td>...</td>\n",
       "    </tr>\n",
       "    <tr>\n",
       "      <th>361</th>\n",
       "      <td>2019</td>\n",
       "      <td>12</td>\n",
       "      <td>27</td>\n",
       "      <td>-1.493</td>\n",
       "      <td>2.260</td>\n",
       "      <td>14:40</td>\n",
       "      <td>-5.245</td>\n",
       "      <td>07:30</td>\n",
       "      <td>0.403</td>\n",
       "      <td>0.908</td>\n",
       "      <td>...</td>\n",
       "      <td>0.308</td>\n",
       "      <td>06:00</td>\n",
       "      <td>0.257</td>\n",
       "      <td>14:00</td>\n",
       "      <td>***</td>\n",
       "      <td>2019.000</td>\n",
       "      <td>4.469</td>\n",
       "      <td>16:00</td>\n",
       "      <td>***</td>\n",
       "      <td>0.473</td>\n",
       "    </tr>\n",
       "    <tr>\n",
       "      <th>362</th>\n",
       "      <td>2019</td>\n",
       "      <td>12</td>\n",
       "      <td>28</td>\n",
       "      <td>-2.695</td>\n",
       "      <td>-1.102</td>\n",
       "      <td>01:50</td>\n",
       "      <td>-4.288</td>\n",
       "      <td>07:00</td>\n",
       "      <td>0.363</td>\n",
       "      <td>0.973</td>\n",
       "      <td>...</td>\n",
       "      <td>0.298</td>\n",
       "      <td>20:00</td>\n",
       "      <td>0.264</td>\n",
       "      <td>10:00</td>\n",
       "      <td>***</td>\n",
       "      <td>2019.000</td>\n",
       "      <td>10.623</td>\n",
       "      <td>12:20</td>\n",
       "      <td>***</td>\n",
       "      <td>0.681</td>\n",
       "    </tr>\n",
       "    <tr>\n",
       "      <th>363</th>\n",
       "      <td>2019</td>\n",
       "      <td>12</td>\n",
       "      <td>29</td>\n",
       "      <td>-3.731</td>\n",
       "      <td>1.871</td>\n",
       "      <td>13:30</td>\n",
       "      <td>-9.333</td>\n",
       "      <td>22:40</td>\n",
       "      <td>0.221</td>\n",
       "      <td>0.690</td>\n",
       "      <td>...</td>\n",
       "      <td>0.288</td>\n",
       "      <td>00:00</td>\n",
       "      <td>0.219</td>\n",
       "      <td>23:00</td>\n",
       "      <td>***</td>\n",
       "      <td>2019.000</td>\n",
       "      <td>11.486</td>\n",
       "      <td>07:10</td>\n",
       "      <td>***</td>\n",
       "      <td>1.039</td>\n",
       "    </tr>\n",
       "    <tr>\n",
       "      <th>364</th>\n",
       "      <td>2019</td>\n",
       "      <td>12</td>\n",
       "      <td>30</td>\n",
       "      <td>-5.427</td>\n",
       "      <td>1.293</td>\n",
       "      <td>13:40</td>\n",
       "      <td>-12.147</td>\n",
       "      <td>06:20</td>\n",
       "      <td>0.226</td>\n",
       "      <td>0.833</td>\n",
       "      <td>...</td>\n",
       "      <td>0.200</td>\n",
       "      <td>00:00</td>\n",
       "      <td>-0.150</td>\n",
       "      <td>23:00</td>\n",
       "      <td>***</td>\n",
       "      <td>2019.000</td>\n",
       "      <td>4.586</td>\n",
       "      <td>14:30</td>\n",
       "      <td>***</td>\n",
       "      <td>0.504</td>\n",
       "    </tr>\n",
       "    <tr>\n",
       "      <th>365</th>\n",
       "      <td>2019</td>\n",
       "      <td>12</td>\n",
       "      <td>31</td>\n",
       "      <td>-4.175</td>\n",
       "      <td>4.810</td>\n",
       "      <td>13:10</td>\n",
       "      <td>-13.160</td>\n",
       "      <td>06:50</td>\n",
       "      <td>0.247</td>\n",
       "      <td>0.862</td>\n",
       "      <td>...</td>\n",
       "      <td>-0.174</td>\n",
       "      <td>00:00</td>\n",
       "      <td>-0.917</td>\n",
       "      <td>13:00</td>\n",
       "      <td>***</td>\n",
       "      <td>2019.000</td>\n",
       "      <td>5.566</td>\n",
       "      <td>18:40</td>\n",
       "      <td>***</td>\n",
       "      <td>0.503</td>\n",
       "    </tr>\n",
       "  </tbody>\n",
       "</table>\n",
       "<p>366 rows × 30 columns</p>\n",
       "</div>"
      ],
      "text/plain": [
       "       0   1   2        3        4      5        6      7      8      9   ...  \\\n",
       "0    Year  Mo  Dy     tave     tmax   mxtm     tmin   mntm     vp  rhmax  ...   \n",
       "1    2019   1   1  -13.535  -10.073  14:10  -16.997  23:50  0.153  0.830  ...   \n",
       "2    2019   1   2   -5.791    6.010  14:50  -17.591  04:00  0.209  0.839  ...   \n",
       "3    2019   1   3    1.374   13.444  13:50  -10.696  05:00  0.340  0.836  ...   \n",
       "4    2019   1   4    4.544   15.089  14:40   -6.000  06:00  0.429  0.815  ...   \n",
       "..    ...  ..  ..      ...      ...    ...      ...    ...    ...    ...  ...   \n",
       "361  2019  12  27   -1.493    2.260  14:40   -5.245  07:30  0.403  0.908  ...   \n",
       "362  2019  12  28   -2.695   -1.102  01:50   -4.288  07:00  0.363  0.973  ...   \n",
       "363  2019  12  29   -3.731    1.871  13:30   -9.333  22:40  0.221  0.690  ...   \n",
       "364  2019  12  30   -5.427    1.293  13:40  -12.147  06:20  0.226  0.833  ...   \n",
       "365  2019  12  31   -4.175    4.810  13:10  -13.160  06:50  0.247  0.862  ...   \n",
       "\n",
       "         20        21      22        23     24        25      26      27  \\\n",
       "0    st15mx  st15mxtm  st15mn  st15mntm  volts      year    gust  gusttm   \n",
       "1    -1.803     00:00  -3.195     23:00    ***  2019.000   5.155   08:10   \n",
       "2    -2.941     19:00  -4.802     11:00    ***  2019.000   4.332   11:50   \n",
       "3    -1.979     22:00  -4.639     10:00    ***  2019.000   4.096   15:40   \n",
       "4    -0.963     23:00  -2.768     10:00    ***  2019.000   4.096   12:30   \n",
       "..      ...       ...     ...       ...    ...       ...     ...     ...   \n",
       "361   0.308     06:00   0.257     14:00    ***  2019.000   4.469   16:00   \n",
       "362   0.298     20:00   0.264     10:00    ***  2019.000  10.623   12:20   \n",
       "363   0.288     00:00   0.219     23:00    ***  2019.000  11.486   07:10   \n",
       "364   0.200     00:00  -0.150     23:00    ***  2019.000   4.586   14:30   \n",
       "365  -0.174     00:00  -0.917     13:00    ***  2019.000   5.566   18:40   \n",
       "\n",
       "         28        29  \n",
       "0    gusdir  etr_asce  \n",
       "1       ***     0.324  \n",
       "2       ***     0.521  \n",
       "3       ***     0.729  \n",
       "4       ***     0.893  \n",
       "..      ...       ...  \n",
       "361     ***     0.473  \n",
       "362     ***     0.681  \n",
       "363     ***     1.039  \n",
       "364     ***     0.504  \n",
       "365     ***     0.503  \n",
       "\n",
       "[366 rows x 30 columns]"
      ]
     },
     "execution_count": 87,
     "metadata": {},
     "output_type": "execute_result"
    }
   ],
   "source": [
    "df = pandas.read_csv('https://www.cs.colostate.edu/~cs445/notebooks/A1_data.txt',header=None, delim_whitespace=True)\n",
    "df\n",
    "#df.iloc[280:290] # look at rows 30-39"
   ]
  },
  {
   "cell_type": "markdown",
   "metadata": {},
   "source": [
    "## 5 points:\n",
    "\n",
    "Check for missing values by showing the number of NA values, as shown in lecture notes."
   ]
  },
  {
   "cell_type": "code",
   "execution_count": 88,
   "metadata": {},
   "outputs": [
    {
     "data": {
      "text/plain": [
       "0     0\n",
       "1     0\n",
       "2     0\n",
       "3     0\n",
       "4     0\n",
       "5     0\n",
       "6     0\n",
       "7     0\n",
       "8     0\n",
       "9     0\n",
       "10    0\n",
       "11    0\n",
       "12    0\n",
       "13    0\n",
       "14    0\n",
       "15    0\n",
       "16    0\n",
       "17    0\n",
       "18    0\n",
       "19    0\n",
       "20    0\n",
       "21    0\n",
       "22    0\n",
       "23    0\n",
       "24    0\n",
       "25    0\n",
       "26    0\n",
       "27    0\n",
       "28    0\n",
       "29    0\n",
       "dtype: int64"
      ]
     },
     "execution_count": 88,
     "metadata": {},
     "output_type": "execute_result"
    }
   ],
   "source": [
    "df = pandas.read_csv('https://www.cs.colostate.edu/~cs445/notebooks/A1_data.txt',header=None, delim_whitespace=True, na_values='?')\n",
    "df\n",
    "df.isna().sum() # detect missing values\n"
   ]
  },
  {
   "cell_type": "markdown",
   "metadata": {},
   "source": [
    "## 5 points:\n",
    "\n",
    "If there are missing values, remove either samples or features that contain missing values. Prove that you\n",
    "were successful by counting the number of missing values now, which should be zero."
   ]
  },
  {
   "cell_type": "code",
   "execution_count": 89,
   "metadata": {},
   "outputs": [
    {
     "data": {
      "text/plain": [
       "0"
      ]
     },
     "execution_count": 89,
     "metadata": {},
     "output_type": "execute_result"
    }
   ],
   "source": [
    "df.dropna()\n",
    "df.isnull().all(axis = 0).sum()"
   ]
  },
  {
   "cell_type": "markdown",
   "metadata": {},
   "source": [
    "Your job is now to create a linear model that predicts the next day's average temperature (tave) from the previous day's values. A discription of all features can be found [here](https://coagmet.colostate.edu/rawdata_docs.php). To start, consider just focusing on these features: \n",
    "1. tave: average temperature\n",
    "2. tmax: maximum temperature\n",
    "3. tmin: minimum temperature\n",
    "4. vp: vapor pressure\n",
    "5. rhmax: maximum relative humidity\n",
    "6. rhmin: minimum relative humidity\n",
    "7. pp: precipitation\n",
    "8. gust: wind gust speed\n",
    "\n",
    "First, modify the datafile to add a new column: 'next tave' -- here's a hint on your X and T vectors names:"
   ]
  },
  {
   "cell_type": "code",
   "execution_count": 90,
   "metadata": {},
   "outputs": [
    {
     "data": {
      "text/plain": [
       "0         tave\n",
       "1      -13.535\n",
       "2       -5.791\n",
       "3        1.374\n",
       "4        4.544\n",
       "        ...   \n",
       "361     -1.493\n",
       "362     -2.695\n",
       "363     -3.731\n",
       "364     -5.427\n",
       "365     -4.175\n",
       "Name: tave, Length: 366, dtype: object"
      ]
     },
     "execution_count": 90,
     "metadata": {},
     "output_type": "execute_result"
    }
   ],
   "source": [
    "Xnames = ['tave', 'tmax', 'tmin', 'vp', 'rhmax', 'rhmin', 'pp', 'gust']\n",
    "Tnames = ['next tave']\n",
    "df.columns = df.iloc[0]\n",
    "df['next tave'] = [0 for x in range(0, df.shape[0])]\n",
    "df['tave']\n",
    "\n",
    "\n",
    "\n",
    "\n",
    "\n"
   ]
  },
  {
   "cell_type": "markdown",
   "metadata": {},
   "source": [
    "## 5 points:\n",
    "\n",
    "Now select those eight columns from `df` and convert the result to a `numpy` array.  (Easier than it sounds.)\n",
    "Then assign `X` to be all columns and all but the last row.  Assign `T` to be just the first column (tave) and all but the first sample.  So now the first row (sample) in `X` is associated with the first row (sample) in `T` which tave for the following day."
   ]
  },
  {
   "cell_type": "code",
   "execution_count": 91,
   "metadata": {},
   "outputs": [
    {
     "data": {
      "text/plain": [
       "array([['-5.791'],\n",
       "       ['1.374'],\n",
       "       ['4.544'],\n",
       "       ['4.465'],\n",
       "       ['6.484'],\n",
       "       ['3.951'],\n",
       "       ['0.073'],\n",
       "       ['-1.611'],\n",
       "       ['6.022'],\n",
       "       ['3.194'],\n",
       "       ['1.587'],\n",
       "       ['-0.441'],\n",
       "       ['0.164'],\n",
       "       ['1.711'],\n",
       "       ['4.581'],\n",
       "       ['3.755'],\n",
       "       ['1.748'],\n",
       "       ['0.794'],\n",
       "       ['3.699'],\n",
       "       ['1.509'],\n",
       "       ['-2.389'],\n",
       "       ['-2.238'],\n",
       "       ['-4.389'],\n",
       "       ['-4.567'],\n",
       "       ['0.199'],\n",
       "       ['5.772'],\n",
       "       ['-2.951'],\n",
       "       ['-5.122'],\n",
       "       ['-3.679'],\n",
       "       ['1.366'],\n",
       "       ['3.617'],\n",
       "       ['4.365'],\n",
       "       ['8.895'],\n",
       "       ['1.934'],\n",
       "       ['-0.690'],\n",
       "       ['-9.659'],\n",
       "       ['-15.989'],\n",
       "       ['-9.802'],\n",
       "       ['-5.180'],\n",
       "       ['-4.825'],\n",
       "       ['-3.589'],\n",
       "       ['2.783'],\n",
       "       ['6.673'],\n",
       "       ['5.976'],\n",
       "       ['2.393'],\n",
       "       ['-0.857'],\n",
       "       ['-4.927'],\n",
       "       ['-11.115'],\n",
       "       ['-8.522'],\n",
       "       ['-5.496'],\n",
       "       ['-4.461'],\n",
       "       ['-5.376'],\n",
       "       ['-0.835'],\n",
       "       ['2.057'],\n",
       "       ['0.910'],\n",
       "       ['0.546'],\n",
       "       ['-5.434'],\n",
       "       ['0.958'],\n",
       "       ['3.836'],\n",
       "       ['-9.381'],\n",
       "       ['-17.259'],\n",
       "       ['-14.075'],\n",
       "       ['-9.756'],\n",
       "       ['-0.159'],\n",
       "       ['0.280'],\n",
       "       ['1.555'],\n",
       "       ['5.548'],\n",
       "       ['2.875'],\n",
       "       ['3.626'],\n",
       "       ['7.334'],\n",
       "       ['2.158'],\n",
       "       ['-1.047'],\n",
       "       ['-0.942'],\n",
       "       ['1.528'],\n",
       "       ['4.437'],\n",
       "       ['3.946'],\n",
       "       ['3.991'],\n",
       "       ['4.995'],\n",
       "       ['6.753'],\n",
       "       ['8.284'],\n",
       "       ['5.628'],\n",
       "       ['5.952'],\n",
       "       ['9.615'],\n",
       "       ['9.510'],\n",
       "       ['12.244'],\n",
       "       ['9.424'],\n",
       "       ['2.402'],\n",
       "       ['1.393'],\n",
       "       ['3.309'],\n",
       "       ['5.954'],\n",
       "       ['7.191'],\n",
       "       ['10.169'],\n",
       "       ['10.094'],\n",
       "       ['13.743'],\n",
       "       ['12.372'],\n",
       "       ['12.309'],\n",
       "       ['15.330'],\n",
       "       ['15.449'],\n",
       "       ['3.699'],\n",
       "       ['-0.400'],\n",
       "       ['0.782'],\n",
       "       ['3.315'],\n",
       "       ['8.520'],\n",
       "       ['11.600'],\n",
       "       ['10.600'],\n",
       "       ['12.037'],\n",
       "       ['11.451'],\n",
       "       ['12.991'],\n",
       "       ['16.126'],\n",
       "       ['14.060'],\n",
       "       ['7.064'],\n",
       "       ['13.259'],\n",
       "       ['13.686'],\n",
       "       ['13.524'],\n",
       "       ['14.618'],\n",
       "       ['11.846'],\n",
       "       ['13.838'],\n",
       "       ['2.053'],\n",
       "       ['0.962'],\n",
       "       ['5.752'],\n",
       "       ['7.898'],\n",
       "       ['10.629'],\n",
       "       ['13.433'],\n",
       "       ['15.598'],\n",
       "       ['13.808'],\n",
       "       ['8.052'],\n",
       "       ['5.587'],\n",
       "       ['2.934'],\n",
       "       ['7.615'],\n",
       "       ['9.104'],\n",
       "       ['13.366'],\n",
       "       ['16.434'],\n",
       "       ['17.219'],\n",
       "       ['17.453'],\n",
       "       ['18.840'],\n",
       "       ['13.831'],\n",
       "       ['10.457'],\n",
       "       ['6.479'],\n",
       "       ['2.686'],\n",
       "       ['3.922'],\n",
       "       ['6.614'],\n",
       "       ['5.209'],\n",
       "       ['12.437'],\n",
       "       ['13.189'],\n",
       "       ['17.438'],\n",
       "       ['13.971'],\n",
       "       ['9.855'],\n",
       "       ['11.051'],\n",
       "       ['12.587'],\n",
       "       ['15.364'],\n",
       "       ['15.911'],\n",
       "       ['17.600'],\n",
       "       ['17.848'],\n",
       "       ['18.240'],\n",
       "       ['17.777'],\n",
       "       ['18.845'],\n",
       "       ['20.925'],\n",
       "       ['18.390'],\n",
       "       ['13.504'],\n",
       "       ['15.443'],\n",
       "       ['17.137'],\n",
       "       ['17.654'],\n",
       "       ['19.823'],\n",
       "       ['21.344'],\n",
       "       ['18.736'],\n",
       "       ['17.691'],\n",
       "       ['17.648'],\n",
       "       ['14.909'],\n",
       "       ['19.698'],\n",
       "       ['19.215'],\n",
       "       ['12.516'],\n",
       "       ['12.052'],\n",
       "       ['13.210'],\n",
       "       ['17.322'],\n",
       "       ['20.203'],\n",
       "       ['21.258'],\n",
       "       ['22.239'],\n",
       "       ['23.866'],\n",
       "       ['26.975'],\n",
       "       ['24.651'],\n",
       "       ['22.770'],\n",
       "       ['22.014'],\n",
       "       ['23.874'],\n",
       "       ['21.633'],\n",
       "       ['20.368'],\n",
       "       ['20.122'],\n",
       "       ['22.491'],\n",
       "       ['21.703'],\n",
       "       ['22.384'],\n",
       "       ['21.311'],\n",
       "       ['24.762'],\n",
       "       ['23.957'],\n",
       "       ['23.364'],\n",
       "       ['25.183'],\n",
       "       ['23.936'],\n",
       "       ['23.733'],\n",
       "       ['24.523'],\n",
       "       ['25.733'],\n",
       "       ['25.462'],\n",
       "       ['23.420'],\n",
       "       ['21.137'],\n",
       "       ['22.314'],\n",
       "       ['23.186'],\n",
       "       ['24.413'],\n",
       "       ['23.919'],\n",
       "       ['22.739'],\n",
       "       ['23.808'],\n",
       "       ['24.904'],\n",
       "       ['23.916'],\n",
       "       ['24.473'],\n",
       "       ['24.417'],\n",
       "       ['22.413'],\n",
       "       ['24.611'],\n",
       "       ['24.785'],\n",
       "       ['25.057'],\n",
       "       ['24.941'],\n",
       "       ['25.338'],\n",
       "       ['22.905'],\n",
       "       ['23.393'],\n",
       "       ['25.459'],\n",
       "       ['23.102'],\n",
       "       ['21.836'],\n",
       "       ['22.714'],\n",
       "       ['21.349'],\n",
       "       ['22.896'],\n",
       "       ['23.367'],\n",
       "       ['21.311'],\n",
       "       ['21.729'],\n",
       "       ['21.435'],\n",
       "       ['24.403'],\n",
       "       ['26.491'],\n",
       "       ['22.667'],\n",
       "       ['23.647'],\n",
       "       ['22.986'],\n",
       "       ['22.840'],\n",
       "       ['24.845'],\n",
       "       ['20.021'],\n",
       "       ['18.477'],\n",
       "       ['21.389'],\n",
       "       ['22.209'],\n",
       "       ['21.284'],\n",
       "       ['23.100'],\n",
       "       ['24.936'],\n",
       "       ['26.067'],\n",
       "       ['21.023'],\n",
       "       ['22.515'],\n",
       "       ['25.131'],\n",
       "       ['21.701'],\n",
       "       ['23.659'],\n",
       "       ['16.851'],\n",
       "       ['20.121'],\n",
       "       ['20.359'],\n",
       "       ['18.117'],\n",
       "       ['17.389'],\n",
       "       ['16.231'],\n",
       "       ['19.058'],\n",
       "       ['19.799'],\n",
       "       ['23.127'],\n",
       "       ['22.181'],\n",
       "       ['18.735'],\n",
       "       ['18.865'],\n",
       "       ['20.660'],\n",
       "       ['16.279'],\n",
       "       ['13.746'],\n",
       "       ['16.429'],\n",
       "       ['18.454'],\n",
       "       ['16.310'],\n",
       "       ['16.157'],\n",
       "       ['15.796'],\n",
       "       ['15.372'],\n",
       "       ['19.619'],\n",
       "       ['14.761'],\n",
       "       ['8.635'],\n",
       "       ['9.730'],\n",
       "       ['10.894'],\n",
       "       ['13.020'],\n",
       "       ['13.747'],\n",
       "       ['9.554'],\n",
       "       ['10.464'],\n",
       "       ['13.300'],\n",
       "       ['12.308'],\n",
       "       ['-1.673'],\n",
       "       ['1.423'],\n",
       "       ['6.274'],\n",
       "       ['9.820'],\n",
       "       ['11.730'],\n",
       "       ['8.552'],\n",
       "       ['12.152'],\n",
       "       ['12.792'],\n",
       "       ['12.393'],\n",
       "       ['9.497'],\n",
       "       ['7.065'],\n",
       "       ['7.504'],\n",
       "       ['9.526'],\n",
       "       ['7.613'],\n",
       "       ['2.265'],\n",
       "       ['6.845'],\n",
       "       ['10.758'],\n",
       "       ['-4.739'],\n",
       "       ['-5.022'],\n",
       "       ['-8.807'],\n",
       "       ['-8.924'],\n",
       "       ['-2.865'],\n",
       "       ['0.229'],\n",
       "       ['1.698'],\n",
       "       ['5.141'],\n",
       "       ['4.190'],\n",
       "       ['5.219'],\n",
       "       ['4.235'],\n",
       "       ['2.372'],\n",
       "       ['7.648'],\n",
       "       ['10.911'],\n",
       "       ['5.470'],\n",
       "       ['-7.825'],\n",
       "       ['-0.043'],\n",
       "       ['8.319'],\n",
       "       ['5.547'],\n",
       "       ['7.779'],\n",
       "       ['10.660'],\n",
       "       ['4.430'],\n",
       "       ['11.554'],\n",
       "       ['7.153'],\n",
       "       ['4.670'],\n",
       "       ['-1.739'],\n",
       "       ['-1.255'],\n",
       "       ['4.217'],\n",
       "       ['5.667'],\n",
       "       ['3.452'],\n",
       "       ['-8.343'],\n",
       "       ['-10.873'],\n",
       "       ['-5.517'],\n",
       "       ['-3.236'],\n",
       "       ['-1.060'],\n",
       "       ['-5.940'],\n",
       "       ['0.889'],\n",
       "       ['5.218'],\n",
       "       ['2.470'],\n",
       "       ['2.082'],\n",
       "       ['1.805'],\n",
       "       ['3.531'],\n",
       "       ['4.837'],\n",
       "       ['0.249'],\n",
       "       ['-2.283'],\n",
       "       ['-1.104'],\n",
       "       ['2.316'],\n",
       "       ['3.390'],\n",
       "       ['-3.137'],\n",
       "       ['-5.130'],\n",
       "       ['-4.894'],\n",
       "       ['-5.347'],\n",
       "       ['-0.846'],\n",
       "       ['0.338'],\n",
       "       ['0.552'],\n",
       "       ['4.018'],\n",
       "       ['2.506'],\n",
       "       ['5.234'],\n",
       "       ['6.829'],\n",
       "       ['2.781'],\n",
       "       ['0.223'],\n",
       "       ['-1.493'],\n",
       "       ['-2.695'],\n",
       "       ['-3.731'],\n",
       "       ['-5.427'],\n",
       "       ['-4.175']], dtype=object)"
      ]
     },
     "execution_count": 91,
     "metadata": {},
     "output_type": "execute_result"
    }
   ],
   "source": [
    "X = df[Xnames].to_numpy()\n",
    "X = X[:-1]\n",
    "T = df[[\"tave\"]].to_numpy() #1:len(df['tave']), ['tave']]\n",
    "T = T[2:]\n",
    "X\n",
    "T\n",
    "\n",
    "#columns = columns.to_numpy()"
   ]
  },
  {
   "cell_type": "markdown",
   "metadata": {},
   "source": [
    "## 15 points:\n",
    "\n",
    "Use the function `train` to train a model for the `X`\n",
    "and `T` data.  Run it several times with different `learning_rate`\n",
    "and `n_epochs` values to produce decreasing errors. Use the `use`\n",
    "function and plots of `T` versus predicted `Y` values to show how\n",
    "well the model is working.  Type your observations of the plot and of the value of `rmse` to discuss how well the model succeeds."
   ]
  },
  {
   "cell_type": "code",
   "execution_count": 92,
   "metadata": {},
   "outputs": [
    {
     "data": {
      "text/plain": [
       "<matplotlib.legend.Legend at 0x7f921db393a0>"
      ]
     },
     "execution_count": 92,
     "metadata": {},
     "output_type": "execute_result"
    },
    {
     "data": {
      "image/png": "[encoded data removed]",
      "text/plain": [
       "<Figure size 432x288 with 1 Axes>"
      ]
     },
     "metadata": {
      "needs_background": "light"
     },
     "output_type": "display_data"
    }
   ],
   "source": [
    "X = X[1:]\n",
    "X = np.array([[float(x) for x in row] for row in X])\n",
    "T = np.array([[float(t) for t in row] for row in T])\n",
    "\n",
    "model = train(X, T, 0.1, 1000)\n",
    "#train(X, T, 1, 100)\n",
    "#train(X, T, 0.0001, 1000)\n",
    "#train(X, T, 0.001, 5000)\n",
    "#train(X, T, 0.001, 10000)\n",
    "\n",
    "Y = use(X, model)\n",
    "plt.plot(T, '.', label='T')\n",
    "plt.plot(Y, '.', label='Y')\n",
    "plt.legend()"
   ]
  },
  {
   "cell_type": "markdown",
   "metadata": {},
   "source": [
    "# Observations\n",
    "The training produced a model which closely predicts the temperature for the next day based on weather data from the given day. We are not sure if our model is overfitting because we do not split our data into train and test data. This line should be linear in 8 dimensional space. \n",
    "\n",
    "If we have too high a learning rate, the algorithm over adjusts and results in an error due to out of bounds. With larger learning rates, our error increases but training goes faster. I found 0.001 to fit nicely and not take long."
   ]
  },
  {
   "cell_type": "markdown",
   "metadata": {},
   "source": [
    "## 5 points:\n",
    "\n",
    "Print the weight values in the resulting model along with their corresponding variable names (in `Xnames`). Use the relative magnitude\n",
    "of the weight values to discuss which input variables are most significant in predicting the changes in the tave values."
   ]
  },
  {
   "cell_type": "code",
   "execution_count": 93,
   "metadata": {},
   "outputs": [
    {
     "name": "stdout",
     "output_type": "stream",
     "text": [
      "tave: \t-0.17598455340868582\n",
      "tmax: \t-0.1022629140511071\n",
      "tmin: \t-0.06619746317705144\n",
      "vp: \t-0.07984738009466621\n",
      "rhmax: \t1.5117331920321901\n",
      "rhmin: \t-0.08343897618663941\n",
      "pp: \t-0.12825680660642805\n",
      "gust: \t0.011243505095716356\n"
     ]
    }
   ],
   "source": [
    "result = [(zipped[0][0], zipped[1]) for zipped in zip(model['w'], Xnames)]\n",
    "for name in result:\n",
    "    print(f'{name[1]}: \\t{name[0]}')"
   ]
  },
  {
   "cell_type": "markdown",
   "metadata": {},
   "source": [
    "These variables are all based on a standardized data set. So, the weight shows how important variables are for predicting the next day's weather. If these weren't standardized, the weights would correspond to the variable's units. Now, these numbers are unitless. "
   ]
  },
  {
   "cell_type": "markdown",
   "metadata": {},
   "source": [
    "## Grading and Check-in\n",
    "\n",
    "Your notebook will be partially graded automatically.  You can test this grading process yourself by downloading [A1grader.zip](https://www.cs.colostate.edu/~cs445/notebooks/A1grader.zip) and extract `A1grader.py` parallel to this notebook.  Run the code in the in the following cell to see an example grading run.  If your functions are defined correctly, you should see a score of 60/60.  The remaining 40 points are based on testing other data and your discussion."
   ]
  },
  {
   "cell_type": "code",
   "execution_count": 94,
   "metadata": {},
   "outputs": [
    {
     "name": "stdout",
     "output_type": "stream",
     "text": [
      "\n",
      "======================= Code Execution =======================\n",
      "\n",
      "Extracting python code from notebook named 'A1.ipynb' and storing in notebookcode.py\n"
     ]
    },
    {
     "ename": "SyntaxError",
     "evalue": "invalid syntax (eval, line 399)",
     "output_type": "error",
     "traceback": [
      "\u001b[0;36m  File \u001b[0;32m\"eval\"\u001b[0;36m, line \u001b[0;32m399\u001b[0m\n\u001b[0;31m    . . .\u001b[0m\n\u001b[0m    ^\u001b[0m\n\u001b[0;31mSyntaxError\u001b[0m\u001b[0;31m:\u001b[0m invalid syntax\n"
     ]
    }
   ],
   "source": [
    "%run -i A1grader.py"
   ]
  },
  {
   "cell_type": "markdown",
   "metadata": {},
   "source": [
    "A different but similar grading script will be used to grade yout checked-in notebook.  It will include different tests.\n",
    "\n",
    "You must name your notebook as `Lastname-A1.ipynb` with `Lastname` being your last name, and then save this notebook and check it in at the A1 assignment link in our Canvas web page."
   ]
  },
  {
   "cell_type": "markdown",
   "metadata": {},
   "source": [
    "## Extra Credit: 1 point"
   ]
  },
  {
   "cell_type": "markdown",
   "metadata": {},
   "source": [
    "A typical problem when predicting the next value in a time series is\n",
    "that the best solution may be to predict the previous value.  The\n",
    "predicted value will look a lot like the input tave value shifted on\n",
    "time step later.\n",
    "\n",
    "To do better, try predicting the change in tave from one day to the next. `T` can be assigned as"
   ]
  },
  {
   "cell_type": "code",
   "execution_count": null,
   "metadata": {},
   "outputs": [],
   "source": [
    "T = data[1:, 0:1] -  data[:-1, 0:1]"
   ]
  },
  {
   "cell_type": "markdown",
   "metadata": {},
   "source": [
    "Now repeat the training experiments to pick good `learning_rate` and\n",
    "`n_epochs`.  Use predicted values to produce next day tave values by\n",
    "adding the predicted values to the previous day's tave.  Use `rmse`\n",
    "to determine if this way of predicting next tave is better than\n",
    "directly predicting tave."
   ]
  }
 ],
 "metadata": {
  "jupytext": {
   "formats": "ipynb,py"
  },
  "kernelspec": {
   "display_name": "Python 3",
   "language": "python",
   "name": "python3"
  },
  "language_info": {
   "codemirror_mode": {
    "name": "ipython",
    "version": 3
   },
   "file_extension": ".py",
   "mimetype": "text/x-python",
   "name": "python",
   "nbconvert_exporter": "python",
   "pygments_lexer": "ipython3",
   "version": "3.8.3"
  }
 },
 "nbformat": 4,
 "nbformat_minor": 2
}
